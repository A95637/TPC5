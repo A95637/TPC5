{
 "cells": [
  {
   "cell_type": "markdown",
   "metadata": {},
   "source": [
    "__Idenficador:__ TPC5  \n",
    "__Título do Trabalho:__ Trabalhar com polinómios    \n",
    "__Data de ínicio:__ 2021-11-08   \n",
    "__Data do Fim:__ 2021-11-14  \n",
    "__Supervisor:__ José Carlos Ramalho  \n",
    "__Autor:__ Luís Manuel Mendonça Gonçalves A95637  \n",
    "\n",
    "\n",
    "__Resumo:__   \n",
    "Neste trabalho foi pedido que fosse desenvolvido um programa capaz de trabalhar com polinomios, fazendo algumas operações com elas.  \n",
    "Neste programa foi utilzado como base ouma lsita onde haviam varios tuplos de dois fatores onde cada fator significava o coefeciente e o expoente do monomio da função a usar.  \n",
    "Foram implementados funções como Criar Polinomio, Calcular Polinomio, Calcular uma tabela de x x elemtos do polinomio, simplicar o Polinomio e o calculo da Derivada do polinomio"
   ]
  },
  {
   "cell_type": "code",
   "execution_count": null,
   "metadata": {},
   "outputs": [],
   "source": [
    "def menu():\n",
    "    print(\"\"\"Menu\n",
    "1 Criar Polinomio\n",
    "2 Calcular Polinomio\n",
    "3 Calcular Tabela de polinomios\n",
    "4 Simplicar o Polinomio\n",
    "5 Calculo da Derivada do polinomio\n",
    "0 sair\"\"\")"
   ]
  },
  {
   "cell_type": "code",
   "execution_count": null,
   "metadata": {},
   "outputs": [],
   "source": [
    "#Opção1\n",
    "def criarTermo(coef,exp):\n",
    "    return(coef,exp)\n",
    "\n",
    "def criarPoli():\n",
    "    return[]\n",
    "def inserirTermo(poli,termo):\n",
    "    poli.append(termo)\n",
    "    return(poli)\n",
    "def verTermo(t):\n",
    "    if t[1]==0:\n",
    "        return str(t[0])\n",
    "    elif t[0]==1:\n",
    "        return (\"x^\"+str(t[1]))\n",
    "    else:\n",
    "        return (str(t[0])+\"x^\"+str(t[1]))\n",
    "\n",
    "def verPoli(poli):\n",
    "    polif=\"\"\n",
    "    for termo in (poli):\n",
    "        polif+= (str(verTermo(termo)))\n",
    "        if termo!=poli[-1]:\n",
    "            polif+=\" + \"\n",
    "    return(polif)\n",
    "def carac(p):\n",
    "    c,e=p\n",
    "    return e\n",
    "def OrdPoli(p):\n",
    "    p.sort(reverse=True, key=carac)\n",
    "    return p"
   ]
  },
  {
   "cell_type": "code",
   "execution_count": null,
   "metadata": {},
   "outputs": [],
   "source": [
    "#Op2\n",
    "def calcPoli(p,x):\n",
    "    val=0\n",
    "    for i in p:\n",
    "        c,e=i\n",
    "        val+=(c*(x)**(e))\n",
    "    return val"
   ]
  },
  {
   "cell_type": "code",
   "execution_count": null,
   "metadata": {},
   "outputs": [],
   "source": [
    "#Opção 3\n",
    "def calcPoliTab(p,xmax):\n",
    "    Tab=[]\n",
    "    for i in range (1,xmax+1):\n",
    "        valor=(str(i)), str(calcPoli(p,i))\n",
    "        Tab.append(valor)\n",
    "    return Tab\n",
    "\n",
    "def verTab (Tab):\n",
    "    for i in Tab:\n",
    "        print(str(i[0])+\" :: \"+ str(i[1]))"
   ]
  },
  {
   "cell_type": "code",
   "execution_count": null,
   "metadata": {},
   "outputs": [],
   "source": [
    "#Opção 4\n",
    "def SimpPoli(p):\n",
    "    PoliSimp=[p[0]]\n",
    "    for f in p:\n",
    "        c,e=f\n",
    "        if f==p[0]:\n",
    "            fm1=(c,e)\n",
    "        elif fm1[1]==e:\n",
    "            novo= (c+fm1[0],e)\n",
    "            PoliSimp.pop()\n",
    "            PoliSimp.append(novo)\n",
    "            fm1=(c,e)\n",
    "        else:\n",
    "            PoliSimp.append(f)\n",
    "            fm1=(c,e)\n",
    "    return PoliSimp"
   ]
  },
  {
   "cell_type": "code",
   "execution_count": null,
   "metadata": {},
   "outputs": [],
   "source": [
    "#Opção5\n",
    "def deri(Poli):\n",
    "    Deri=[]\n",
    "    for termo in Poli:\n",
    "        if termo[1]!=0:\n",
    "            a,b=(termo[0]*termo[1],termo[1]-1)\n",
    "            Deri.append((a,b))\n",
    "        elif termo[1]==0:\n",
    "            a=1\n",
    "    return Deri\n"
   ]
  },
  {
   "cell_type": "code",
   "execution_count": null,
   "metadata": {},
   "outputs": [],
   "source": [
    "op=\"1\"\n",
    "while op!=\"0\":\n",
    "    menu()\n",
    "    op=input(\"Qual a opção que quer escolher?\")\n",
    "    if op==\"1\":\n",
    "        Continuar=\"s\"\n",
    "        Poli=criarPoli()\n",
    "        while Continuar==\"s\" or Continuar ==\"S\":\n",
    "                exp=(input(\"Qual o valor do expoente?\"))\n",
    "                \n",
    "                coef=(input(\"Qual o valor do coefeciente com esse expoente?\"))\n",
    "                try:\n",
    "                    exp=float(exp)\n",
    "                    coef=float(coef)\n",
    "                    inserirTermo(Poli,criarTermo(coef,exp))\n",
    "                    Continuar=input(\"Se pretender continuar a escrever o polinomio prima a tecla S!\")\n",
    "                except:\n",
    "                    print(\"Por favor introduza carcateres válidos!\")\n",
    "        print(\"O polinomio final é\", verPoli(OrdPoli(Poli)))\n",
    "    elif op==\"2\":\n",
    "        N=input(\"Qual o valor de x para a calcular?\")\n",
    "        try:\n",
    "            N=int(N)\n",
    "            Calc=calcPoli(Poli,N)\n",
    "            print(\"O valor de \",verPoli(Poli), \"com x com valor de \", N, \",é de \",Calc,\"!\")\n",
    "        except:\n",
    "            print(\"Por favor introduza carcateres válidos!\")\n",
    "    elif op==\"3\":\n",
    "        N=input(\"Qual o número de elementos da tabela?\")\n",
    "        try:\n",
    "            N=int(N)\n",
    "            Tab=calcPoliTab(Poli,N)\n",
    "            verTab(Tab)\n",
    "        except:\n",
    "            print(\"Por favor introduza carcateres válidos!\")\n",
    "    elif op==\"4\":\n",
    "        print(verPoli(SimpPoli(Poli)))\n",
    "    elif op==\"5\":\n",
    "        print(\"A dervada de\",verPoli(Poli),\"é\",verPoli(deri(Poli)),\"!\")\n",
    "    else:\n",
    "        print(\"Por favor introduza carcateres válidos!\")"
   ]
  }
 ],
 "metadata": {
  "interpreter": {
   "hash": "3cf160148158686e6c735920367402ff42da79f3b5c2ab91f9bb8aea49f4fe03"
  },
  "kernelspec": {
   "display_name": "Python 3.9.0 64-bit (system)",
   "language": "python",
   "name": "python3"
  },
  "language_info": {
   "codemirror_mode": {
    "name": "ipython",
    "version": 3
   },
   "file_extension": ".py",
   "mimetype": "text/x-python",
   "name": "python",
   "nbconvert_exporter": "python",
   "pygments_lexer": "ipython3",
   "version": "3.9.0"
  },
  "orig_nbformat": 4
 },
 "nbformat": 4,
 "nbformat_minor": 2
}
